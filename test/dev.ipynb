{
 "cells": [
  {
   "cell_type": "code",
   "execution_count": 13,
   "metadata": {},
   "outputs": [],
   "source": [
    "import sys\n",
    "\n",
    "sys.path.append(\"../src\")"
   ]
  },
  {
   "cell_type": "code",
   "execution_count": 14,
   "metadata": {},
   "outputs": [],
   "source": [
    "from v3 import *"
   ]
  },
  {
   "cell_type": "code",
   "execution_count": 15,
   "metadata": {},
   "outputs": [
    {
     "name": "stdout",
     "output_type": "stream",
     "text": [
      "Loading employees...\n"
     ]
    },
    {
     "data": {
      "text/html": [
       "<progress style='width:60ex' max='100' value='100'></progress>"
      ],
      "text/plain": [
       "[============================================================] 100/100"
      ]
     },
     "metadata": {},
     "output_type": "display_data"
    }
   ],
   "source": [
    "Book.from_json(\"../src/data/books.json\")\n",
    "Customer.from_json(\"../src/data/customers.json\")\n",
    "Employee.from_json(\"../src/data/employees.json\")"
   ]
  },
  {
   "cell_type": "code",
   "execution_count": 16,
   "metadata": {},
   "outputs": [
    {
     "name": "stdout",
     "output_type": "stream",
     "text": [
      "Fallon Brace\n"
     ]
    }
   ],
   "source": [
    "cust1 = Customer.signin(\"fbrace3@dot.gov\", \"869639\")\n",
    "print(cust1.name)"
   ]
  },
  {
   "cell_type": "code",
   "execution_count": 17,
   "metadata": {},
   "outputs": [
    {
     "name": "stdout",
     "output_type": "stream",
     "text": [
      "{'isbn': '408732822-8', 'title': 'Salix gracilistyla Miq.', 'author': 'ESIKA', 'year': 1912, 'genre': 'Romance', 'price': 611.21, 'quantity': 5}\n",
      "{'isbn': '887868855-X', 'title': 'Cladonia perlomera Kristinsson', 'author': 'Heparin Sodium', 'year': 1912, 'genre': 'Comedy', 'price': 184.96, 'quantity': 85}\n",
      "{'isbn': '566177186-X', 'title': 'Canarium ovatum Engl.', 'author': 'Gnaphalium Stannum', 'year': 1912, 'genre': 'Comedy', 'price': 904.25, 'quantity': 78}\n",
      "{'isbn': '350227615-3', 'title': 'Graphis turbulenta Nyl.', 'author': 'Betadine', 'year': 1912, 'genre': 'Comedy', 'price': 939.78, 'quantity': 8}\n",
      "{'isbn': '591830354-5', 'title': 'Cryptantha ganderi I.M. Johnst.', 'author': 'Sodium Bicarbonate', 'year': 1912, 'genre': 'Mystery', 'price': 859.5, 'quantity': 43}\n",
      "{'isbn': '458594787-6', 'title': 'Claytonia L.', 'author': 'ChloraPrep One-Step', 'year': 1912, 'genre': 'Romance', 'price': 636.71, 'quantity': 61}\n",
      "{'isbn': '873033826-3', 'title': 'Camissonia refracta (S. Watson) P.H. Raven', 'author': 'Novamine', 'year': 1912, 'genre': 'Adventure', 'price': 319.61, 'quantity': 89}\n",
      "{'isbn': '437505406-9', 'title': 'Lasiacis grisebachii (Nash) Hitchc.', 'author': 'Argentyn 23', 'year': 1912, 'genre': 'Fantasy', 'price': 472.37, 'quantity': 65}\n",
      "{'isbn': '643534894-4', 'title': 'Pteris lydgatei (Baker) Christ', 'author': 'Algenist', 'year': 1912, 'genre': 'Mystery', 'price': 887.38, 'quantity': 33}\n",
      "{'isbn': '576995852-9', 'title': 'Aspicilia rosulata Körb.', 'author': 'Ban', 'year': 1912, 'genre': 'Horror', 'price': 657.72, 'quantity': 71}\n"
     ]
    }
   ],
   "source": [
    "filtered_books = [book.get_book_details() for book in Book.search_by(\"year\", 1912)]\n",
    "print(*filtered_books, sep=\"\\n\")"
   ]
  },
  {
   "cell_type": "code",
   "execution_count": 27,
   "metadata": {},
   "outputs": [
    {
     "data": {
      "text/plain": [
       "True"
      ]
     },
     "execution_count": 27,
     "metadata": {},
     "output_type": "execute_result"
    }
   ],
   "source": [
    "cust1.cart.add_book(isbn=\"566177186-X\", qty=50)"
   ]
  },
  {
   "cell_type": "code",
   "execution_count": 28,
   "metadata": {},
   "outputs": [
    {
     "name": "stdout",
     "output_type": "stream",
     "text": [
      "{'isbn': '566177186-X', 'title': 'Canarium ovatum Engl.', 'author': 'Gnaphalium Stannum', 'year': 1912, 'genre': 'Comedy', 'price': 904.25, 'quantity': 18}\n"
     ]
    }
   ],
   "source": [
    "book = Book.getBook(\"566177186-X\")\n",
    "print(book.get_book_details())"
   ]
  },
  {
   "cell_type": "code",
   "execution_count": 29,
   "metadata": {},
   "outputs": [
    {
     "data": {
      "text/plain": [
       "True"
      ]
     },
     "execution_count": 29,
     "metadata": {},
     "output_type": "execute_result"
    }
   ],
   "source": [
    "cust1.checkout()"
   ]
  },
  {
   "cell_type": "code",
   "execution_count": 30,
   "metadata": {},
   "outputs": [
    {
     "data": {
      "text/plain": [
       "{'000000': <v3.Order at 0x1f63bfc5e10>,\n",
       " '000001': <v3.Order at 0x1f63de0c310>,\n",
       " '000002': <v3.Order at 0x1f63cb8cc90>}"
      ]
     },
     "execution_count": 30,
     "metadata": {},
     "output_type": "execute_result"
    }
   ],
   "source": [
    "Order.all_orders"
   ]
  },
  {
   "cell_type": "code",
   "execution_count": 32,
   "metadata": {},
   "outputs": [
    {
     "name": "stdout",
     "output_type": "stream",
     "text": [
      "{'order_id': '000000', 'customer': <v3.Customer object at 0x000001F63CC33650>, 'items': 1, 'total': 9042.5, 'approved': False, 'rejected': False}\n",
      "{'order_id': '000001', 'customer': <v3.Customer object at 0x000001F63DD12ED0>, 'items': 1, 'total': 9042.5, 'approved': False, 'rejected': False}\n",
      "{'order_id': '000002', 'customer': <v3.Customer object at 0x000001F63DD12ED0>, 'items': 1, 'total': 45212.5, 'approved': False, 'rejected': False}\n"
     ]
    }
   ],
   "source": [
    "for order in Order.all_orders.values():\n",
    "    print(order.get_order_details())"
   ]
  },
  {
   "cell_type": "code",
   "execution_count": 22,
   "metadata": {},
   "outputs": [],
   "source": [
    "TheStore = BookStore(\"The Store\", \"123 Main St\")"
   ]
  },
  {
   "cell_type": "code",
   "execution_count": 23,
   "metadata": {},
   "outputs": [],
   "source": [
    "TheStore.update_sales()"
   ]
  },
  {
   "cell_type": "code",
   "execution_count": 24,
   "metadata": {},
   "outputs": [
    {
     "data": {
      "text/plain": [
       "{'name': 'The Store',\n",
       " 'address': '123 Main St',\n",
       " 'current_user': None,\n",
       " 'break_loop': False,\n",
       " 'crash': False,\n",
       " 'total_sales': 0,\n",
       " 'pending_sales': 2,\n",
       " 'completed_sales': 0}"
      ]
     },
     "execution_count": 24,
     "metadata": {},
     "output_type": "execute_result"
    }
   ],
   "source": [
    "TheStore.__dict__"
   ]
  }
 ],
 "metadata": {
  "kernelspec": {
   "display_name": "Python 3",
   "language": "python",
   "name": "python3"
  },
  "language_info": {
   "codemirror_mode": {
    "name": "ipython",
    "version": 3
   },
   "file_extension": ".py",
   "mimetype": "text/x-python",
   "name": "python",
   "nbconvert_exporter": "python",
   "pygments_lexer": "ipython3",
   "version": "3.11.4"
  },
  "orig_nbformat": 4
 },
 "nbformat": 4,
 "nbformat_minor": 2
}
